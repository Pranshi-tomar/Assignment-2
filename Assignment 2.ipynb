{
 "cells": [
  {
   "attachments": {},
   "cell_type": "markdown",
   "metadata": {},
   "source": [
    "QUES1."
   ]
  },
  {
   "cell_type": "code",
   "execution_count": null,
   "metadata": {},
   "outputs": [],
   "source": [
    "marks=int(input(\"enter here marks\"))\n",
    "if marks>90:\n",
    "    print(\"grade A\")\n",
    "elif marks>80 and marks<=90:\n",
    "    print(\"grade B\")\n",
    "elif marks>=60 and marks<=80:\n",
    "    print(\"grade C\")\n",
    "else:\n",
    "    print(\"grade D\")"
   ]
  },
  {
   "cell_type": "code",
   "execution_count": null,
   "metadata": {},
   "outputs": [],
   "source": [
    "string=input(\"enter the city name\")\n",
    "if string==\"dehli\":\n",
    "    print(\"red fort in dehli\")\n",
    "elif string==\"agra\":\n",
    "    print(\"tajmahal in agra\")\n",
    "elif string==\"jaipur\":\n",
    "    print(\"jalmahal in jaipur\")\n",
    "else:\n",
    "    print(\"no city\")"
   ]
  },
  {
   "cell_type": "code",
   "execution_count": null,
   "metadata": {},
   "outputs": [],
   "source": [
    "a=10\n",
    "while(a>=1):\n",
    "    print(a)\n",
    "    a=a-1"
   ]
  },
  {
   "attachments": {},
   "cell_type": "markdown",
   "metadata": {},
   "source": [
    "ANS5. In Python while loop is used to run a block code until a certain condition is met.A while loop evaluates the condition .If the condition evaluates to True, the code inside the while loop is executed.condition is evaluated again.This process continues until the condition is False.When condition evaluates to False, the loop stops.A \"While\" Loop is used to repeat a specific block of code an unknown number of times, until a condition is met."
   ]
  },
  {
   "attachments": {},
   "cell_type": "markdown",
   "metadata": {},
   "source": [
    "example of while loop"
   ]
  },
  {
   "cell_type": "code",
   "execution_count": null,
   "metadata": {},
   "outputs": [],
   "source": [
    "a=1\n",
    "while(a<=10):\n",
    "    print(a)\n",
    "    a=a+1"
   ]
  },
  {
   "cell_type": "code",
   "execution_count": null,
   "metadata": {},
   "outputs": [],
   "source": [
    "num=int(input(\"enter here number\"))\n",
    "count=1\n",
    "if num%3==0:\n",
    "    print(\"number is divisible\")"
   ]
  },
  {
   "cell_type": "code",
   "execution_count": null,
   "metadata": {},
   "outputs": [],
   "source": [
    "income=int(input(\"enter here income to calculate a tax\"))\n",
    "tax=0\n",
    "if income>100000:\n",
    "    tax=(income-100000)*15/10\n",
    "elif income>50000 or income<=100000:\n",
    "    tax=(income-150000)*10/100\n",
    "elif income<=50000:\n",
    "    tax=(income-200000)*5/100\n",
    "print(tax)"
   ]
  },
  {
   "cell_type": "code",
   "execution_count": null,
   "metadata": {},
   "outputs": [],
   "source": [
    "[i/3 for i in range(1,100) ]\n"
   ]
  },
  {
   "cell_type": "code",
   "execution_count": null,
   "metadata": {},
   "outputs": [],
   "source": [
    "def dividible(n,p):\n",
    "    i=0\n",
    "    while n%p==0:\n",
    "        n/=p\n",
    "        i+=1\n",
    "    return i\n",
    "    "
   ]
  },
  {
   "cell_type": "code",
   "execution_count": null,
   "metadata": {},
   "outputs": [],
   "source": [
    "dividible(9,3)"
   ]
  },
  {
   "attachments": {},
   "cell_type": "markdown",
   "metadata": {},
   "source": [
    "QUEs6.Use nested while loop to print a three different pattern"
   ]
  },
  {
   "cell_type": "code",
   "execution_count": null,
   "metadata": {},
   "outputs": [
    {
     "name": "stdout",
     "output_type": "stream",
     "text": [
      "*\n",
      "**\n",
      "***\n",
      "****\n",
      "*****\n",
      "******\n",
      "*******\n",
      "********\n",
      "*********\n",
      "**********\n"
     ]
    }
   ],
   "source": [
    "num=10\n",
    "i=1\n",
    "while i<=num:\n",
    "    j=1\n",
    "    while j <=i:\n",
    "        print(\"*\",end=\"\")\n",
    "        j+=1\n",
    "    print()\n",
    "    i+=1"
   ]
  },
  {
   "cell_type": "code",
   "execution_count": null,
   "metadata": {},
   "outputs": [
    {
     "name": "stdout",
     "output_type": "stream",
     "text": [
      "* * * * * * * * * * \n",
      "* * * * * * * * * \n",
      "* * * * * * * * \n",
      "* * * * * * * \n",
      "* * * * * * \n",
      "* * * * * \n",
      "* * * * \n",
      "* * * \n",
      "* * \n",
      "* \n"
     ]
    }
   ],
   "source": [
    "num=10\n",
    "i=1\n",
    "while i<=num:\n",
    "    j=num\n",
    "    while j >=i:\n",
    "        print(\"*\",end =\" \")\n",
    "        j-=1\n",
    "    print()\n",
    "    i+=1"
   ]
  },
  {
   "cell_type": "code",
   "execution_count": null,
   "metadata": {},
   "outputs": [
    {
     "name": "stdout",
     "output_type": "stream",
     "text": [
      "10 9 8 7 6 5 4 3 2 1 \n",
      "10 9 8 7 6 5 4 3 2 \n",
      "10 9 8 7 6 5 4 3 \n",
      "10 9 8 7 6 5 4 \n",
      "10 9 8 7 6 5 \n",
      "10 9 8 7 6 \n",
      "10 9 8 7 \n",
      "10 9 8 \n",
      "10 9 \n",
      "10 \n"
     ]
    }
   ],
   "source": [
    "num=10\n",
    "i=1\n",
    "while i<=num:\n",
    "    j=num\n",
    "    while j >=i:\n",
    "        print(j,end =\" \")\n",
    "        j-=1\n",
    "    print()\n",
    "    i+=1"
   ]
  }
 ],
 "metadata": {
  "kernelspec": {
   "display_name": "Python 3",
   "language": "python",
   "name": "python3"
  },
  "language_info": {
   "codemirror_mode": {
    "name": "ipython",
    "version": 3
   },
   "file_extension": ".py",
   "mimetype": "text/x-python",
   "name": "python",
   "nbconvert_exporter": "python",
   "pygments_lexer": "ipython3",
   "version": "3.11.2"
  },
  "orig_nbformat": 4
 },
 "nbformat": 4,
 "nbformat_minor": 2
}
